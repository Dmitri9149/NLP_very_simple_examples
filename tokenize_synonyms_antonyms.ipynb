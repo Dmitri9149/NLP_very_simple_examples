{
 "cells": [
  {
   "cell_type": "markdown",
   "metadata": {},
   "source": [
    "# Natural Language Processing\n",
    "\n",
    "This material is based on [this](https://likegeeks.com/nlp-tutorial-using-python-nltk/) tutorial"
   ]
  },
  {
   "cell_type": "markdown",
   "metadata": {},
   "source": [
    "Data file is here : https://drive.google.com/open?id=1xOAlHcKHr0Yk6A2uHunj2g-8uispDBsz"
   ]
  },
  {
   "cell_type": "code",
   "execution_count": 16,
   "metadata": {},
   "outputs": [],
   "source": [
    "import pandas as pd\n",
    "import matplotlib.pyplot as plt\n",
    "import nltk\n",
    "import string\n",
    "import random\n",
    "\n",
    "#nltk.download('popular') # Remember that no arguments brings the gui interface"
   ]
  },
  {
   "cell_type": "code",
   "execution_count": 17,
   "metadata": {},
   "outputs": [
    {
     "data": {
      "text/html": [
       "<div>\n",
       "<style scoped>\n",
       "    .dataframe tbody tr th:only-of-type {\n",
       "        vertical-align: middle;\n",
       "    }\n",
       "\n",
       "    .dataframe tbody tr th {\n",
       "        vertical-align: top;\n",
       "    }\n",
       "\n",
       "    .dataframe thead th {\n",
       "        text-align: right;\n",
       "    }\n",
       "</style>\n",
       "<table border=\"1\" class=\"dataframe\">\n",
       "  <thead>\n",
       "    <tr style=\"text-align: right;\">\n",
       "      <th></th>\n",
       "      <th>review_id</th>\n",
       "      <th>user_id</th>\n",
       "      <th>business_id</th>\n",
       "      <th>stars</th>\n",
       "      <th>date</th>\n",
       "      <th>text</th>\n",
       "      <th>useful</th>\n",
       "      <th>funny</th>\n",
       "      <th>cool</th>\n",
       "    </tr>\n",
       "  </thead>\n",
       "  <tbody>\n",
       "    <tr>\n",
       "      <td>0</td>\n",
       "      <td>vkVSCC7xljjrAI4UGfnKEQ</td>\n",
       "      <td>bv2nCi5Qv5vroFiqKGopiw</td>\n",
       "      <td>AEx2SYEUJmTxVVB18LlCwA</td>\n",
       "      <td>5</td>\n",
       "      <td>2016-05-28</td>\n",
       "      <td>Super simple place but amazing nonetheless. It...</td>\n",
       "      <td>0</td>\n",
       "      <td>0</td>\n",
       "      <td>0</td>\n",
       "    </tr>\n",
       "    <tr>\n",
       "      <td>1</td>\n",
       "      <td>n6QzIUObkYshz4dz2QRJTw</td>\n",
       "      <td>bv2nCi5Qv5vroFiqKGopiw</td>\n",
       "      <td>VR6GpWIda3SfvPC-lg9H3w</td>\n",
       "      <td>5</td>\n",
       "      <td>2016-05-28</td>\n",
       "      <td>Small unassuming place that changes their menu...</td>\n",
       "      <td>0</td>\n",
       "      <td>0</td>\n",
       "      <td>0</td>\n",
       "    </tr>\n",
       "    <tr>\n",
       "      <td>2</td>\n",
       "      <td>MV3CcKScW05u5LVfF6ok0g</td>\n",
       "      <td>bv2nCi5Qv5vroFiqKGopiw</td>\n",
       "      <td>CKC0-MOWMqoeWf6s-szl8g</td>\n",
       "      <td>5</td>\n",
       "      <td>2016-05-28</td>\n",
       "      <td>Lester's is located in a beautiful neighborhoo...</td>\n",
       "      <td>0</td>\n",
       "      <td>0</td>\n",
       "      <td>0</td>\n",
       "    </tr>\n",
       "    <tr>\n",
       "      <td>3</td>\n",
       "      <td>IXvOzsEMYtiJI0CARmj77Q</td>\n",
       "      <td>bv2nCi5Qv5vroFiqKGopiw</td>\n",
       "      <td>ACFtxLv8pGrrxMm6EgjreA</td>\n",
       "      <td>4</td>\n",
       "      <td>2016-05-28</td>\n",
       "      <td>Love coming here. Yes the place always needs t...</td>\n",
       "      <td>0</td>\n",
       "      <td>0</td>\n",
       "      <td>0</td>\n",
       "    </tr>\n",
       "    <tr>\n",
       "      <td>4</td>\n",
       "      <td>L_9BTb55X0GDtThi6GlZ6w</td>\n",
       "      <td>bv2nCi5Qv5vroFiqKGopiw</td>\n",
       "      <td>s2I_Ni76bjJNK9yG60iD-Q</td>\n",
       "      <td>4</td>\n",
       "      <td>2016-05-28</td>\n",
       "      <td>Had their chocolate almond croissant and it wa...</td>\n",
       "      <td>0</td>\n",
       "      <td>0</td>\n",
       "      <td>0</td>\n",
       "    </tr>\n",
       "  </tbody>\n",
       "</table>\n",
       "</div>"
      ],
      "text/plain": [
       "                review_id                 user_id             business_id  \\\n",
       "0  vkVSCC7xljjrAI4UGfnKEQ  bv2nCi5Qv5vroFiqKGopiw  AEx2SYEUJmTxVVB18LlCwA   \n",
       "1  n6QzIUObkYshz4dz2QRJTw  bv2nCi5Qv5vroFiqKGopiw  VR6GpWIda3SfvPC-lg9H3w   \n",
       "2  MV3CcKScW05u5LVfF6ok0g  bv2nCi5Qv5vroFiqKGopiw  CKC0-MOWMqoeWf6s-szl8g   \n",
       "3  IXvOzsEMYtiJI0CARmj77Q  bv2nCi5Qv5vroFiqKGopiw  ACFtxLv8pGrrxMm6EgjreA   \n",
       "4  L_9BTb55X0GDtThi6GlZ6w  bv2nCi5Qv5vroFiqKGopiw  s2I_Ni76bjJNK9yG60iD-Q   \n",
       "\n",
       "  stars        date                                               text useful  \\\n",
       "0     5  2016-05-28  Super simple place but amazing nonetheless. It...      0   \n",
       "1     5  2016-05-28  Small unassuming place that changes their menu...      0   \n",
       "2     5  2016-05-28  Lester's is located in a beautiful neighborhoo...      0   \n",
       "3     4  2016-05-28  Love coming here. Yes the place always needs t...      0   \n",
       "4     4  2016-05-28  Had their chocolate almond croissant and it wa...      0   \n",
       "\n",
       "  funny cool  \n",
       "0     0    0  \n",
       "1     0    0  \n",
       "2     0    0  \n",
       "3     0    0  \n",
       "4     0    0  "
      ]
     },
     "execution_count": 17,
     "metadata": {},
     "output_type": "execute_result"
    }
   ],
   "source": [
    "review_df = pd.read_csv('review_split/review.part.00.csv', engine='python', error_bad_lines=False)\n",
    "review_df.drop([0], axis=0, inplace=True)\n",
    "review_df = review_df.reset_index(drop=True) # Reset index after dropping row 0\n",
    "review_df.head()"
   ]
  },
  {
   "cell_type": "code",
   "execution_count": 18,
   "metadata": {},
   "outputs": [
    {
     "data": {
      "text/plain": [
       "'Had my first visit to Barnsteiners last night to try their Winterlicious menu and loved it! Terrific location, it had a very warm, open, social atmosphere. The host and staff were very efficient and friendly, and all of my food was excellent. I had the Barn Caesar Salad (wonderful fresh lemon Caesar vinaigrette), the Cornish hen, and chocolate cake with a sweet orange glaze that worked perfectly together. Highly recommended, will be back again without a doubt.'"
      ]
     },
     "execution_count": 18,
     "metadata": {},
     "output_type": "execute_result"
    }
   ],
   "source": [
    "areview = review_df.iloc[random.choice(review_df.index)]['text']\n",
    "areview"
   ]
  },
  {
   "cell_type": "code",
   "execution_count": 19,
   "metadata": {},
   "outputs": [],
   "source": [
    "from nltk.tokenize import sent_tokenize\n",
    "from nltk.tokenize import word_tokenize"
   ]
  },
  {
   "cell_type": "code",
   "execution_count": 20,
   "metadata": {},
   "outputs": [
    {
     "name": "stdout",
     "output_type": "stream",
     "text": [
      "['Had my first visit to Barnsteiners last night to try their Winterlicious menu and loved it!', 'Terrific location, it had a very warm, open, social atmosphere.', 'The host and staff were very efficient and friendly, and all of my food was excellent.', 'I had the Barn Caesar Salad (wonderful fresh lemon Caesar vinaigrette), the Cornish hen, and chocolate cake with a sweet orange glaze that worked perfectly together.', 'Highly recommended, will be back again without a doubt.']\n",
      "['Had', 'my', 'first', 'visit', 'to', 'Barnsteiners', 'last', 'night', 'to', 'try', 'their', 'Winterlicious', 'menu', 'and', 'loved', 'it', '!', 'Terrific', 'location', ',', 'it', 'had', 'a', 'very', 'warm', ',', 'open', ',', 'social', 'atmosphere', '.', 'The', 'host', 'and', 'staff', 'were', 'very', 'efficient', 'and', 'friendly', ',', 'and', 'all', 'of', 'my', 'food', 'was', 'excellent', '.', 'I', 'had', 'the', 'Barn', 'Caesar', 'Salad', '(', 'wonderful', 'fresh', 'lemon', 'Caesar', 'vinaigrette', ')', ',', 'the', 'Cornish', 'hen', ',', 'and', 'chocolate', 'cake', 'with', 'a', 'sweet', 'orange', 'glaze', 'that', 'worked', 'perfectly', 'together', '.', 'Highly', 'recommended', ',', 'will', 'be', 'back', 'again', 'without', 'a', 'doubt', '.']\n"
     ]
    }
   ],
   "source": [
    "print(sent_tokenize(areview))\n",
    "print(word_tokenize(areview))"
   ]
  },
  {
   "cell_type": "code",
   "execution_count": 21,
   "metadata": {},
   "outputs": [
    {
     "data": {
      "text/plain": [
       "['Had',\n",
       " 'my',\n",
       " 'first',\n",
       " 'visit',\n",
       " 'to',\n",
       " 'Barnsteiners',\n",
       " 'last',\n",
       " 'night',\n",
       " 'to',\n",
       " 'try',\n",
       " 'their',\n",
       " 'Winterlicious',\n",
       " 'menu',\n",
       " 'and',\n",
       " 'loved',\n",
       " 'it',\n",
       " 'Terrific',\n",
       " 'location',\n",
       " 'it',\n",
       " 'had',\n",
       " 'a',\n",
       " 'very',\n",
       " 'warm',\n",
       " 'open',\n",
       " 'social',\n",
       " 'atmosphere',\n",
       " 'The',\n",
       " 'host',\n",
       " 'and',\n",
       " 'staff',\n",
       " 'were',\n",
       " 'very',\n",
       " 'efficient',\n",
       " 'and',\n",
       " 'friendly',\n",
       " 'and',\n",
       " 'all',\n",
       " 'of',\n",
       " 'my',\n",
       " 'food',\n",
       " 'was',\n",
       " 'excellent',\n",
       " 'I',\n",
       " 'had',\n",
       " 'the',\n",
       " 'Barn',\n",
       " 'Caesar',\n",
       " 'Salad',\n",
       " 'wonderful',\n",
       " 'fresh',\n",
       " 'lemon',\n",
       " 'Caesar',\n",
       " 'vinaigrette',\n",
       " 'the',\n",
       " 'Cornish',\n",
       " 'hen',\n",
       " 'and',\n",
       " 'chocolate',\n",
       " 'cake',\n",
       " 'with',\n",
       " 'a',\n",
       " 'sweet',\n",
       " 'orange',\n",
       " 'glaze',\n",
       " 'that',\n",
       " 'worked',\n",
       " 'perfectly',\n",
       " 'together',\n",
       " 'Highly',\n",
       " 'recommended',\n",
       " 'will',\n",
       " 'be',\n",
       " 'back',\n",
       " 'again',\n",
       " 'without',\n",
       " 'a',\n",
       " 'doubt']"
      ]
     },
     "execution_count": 21,
     "metadata": {},
     "output_type": "execute_result"
    }
   ],
   "source": [
    "areviewlist = [word for word in word_tokenize(areview) if word not in string.punctuation]\n",
    "areviewlist"
   ]
  },
  {
   "cell_type": "code",
   "execution_count": 22,
   "metadata": {},
   "outputs": [],
   "source": [
    "from nltk.corpus import wordnet"
   ]
  },
  {
   "cell_type": "code",
   "execution_count": 23,
   "metadata": {},
   "outputs": [
    {
     "name": "stdout",
     "output_type": "stream",
     "text": [
      "Barn\n",
      "an outlying farm building for storing grain or animal feed and housing farm animals\n",
      "[]\n"
     ]
    }
   ],
   "source": [
    "word = random.choice(areviewlist)\n",
    "print(word)\n",
    "wordsyn = wordnet.synsets(word)\n",
    "print(wordsyn[0].definition())\n",
    "print(wordsyn[0].examples())"
   ]
  },
  {
   "cell_type": "code",
   "execution_count": 24,
   "metadata": {},
   "outputs": [
    {
     "name": "stdout",
     "output_type": "stream",
     "text": [
      "try\n",
      "['attempt', 'effort', 'endeavor', 'endeavour', 'try', 'try', 'seek', 'attempt', 'essay', 'assay', 'test', 'prove', 'try', 'try_out', 'examine', 'essay', 'judge', 'adjudicate', 'try', 'sample', 'try', 'try_out', 'taste', 'hear', 'try', 'try', 'try', 'strain', 'stress', 'try', 'render', 'try_on', 'try']\n",
      "[]\n"
     ]
    }
   ],
   "source": [
    "synonyms = []\n",
    "word = random.choice(areviewlist)\n",
    "print(word)\n",
    "for syn in wordnet.synsets(word):\n",
    "    for lemma in syn.lemmas():\n",
    "        synonyms.append(lemma.name())\n",
    " \n",
    "print(synonyms)\n",
    "\n",
    "antonyms = []\n",
    " \n",
    "for syn in wordnet.synsets(word):\n",
    "    for l in syn.lemmas():\n",
    "        if l.antonyms():\n",
    "            antonyms.append(l.antonyms()[0].name())\n",
    " \n",
    "print(antonyms)"
   ]
  },
  {
   "cell_type": "code",
   "execution_count": 25,
   "metadata": {},
   "outputs": [],
   "source": [
    "from nltk.stem import PorterStemmer"
   ]
  },
  {
   "cell_type": "code",
   "execution_count": 26,
   "metadata": {},
   "outputs": [
    {
     "name": "stdout",
     "output_type": "stream",
     "text": [
      "orange\n",
      "orang\n"
     ]
    }
   ],
   "source": [
    "word = random.choice(areviewlist)\n",
    "print(word)\n",
    "print(PorterStemmer().stem(word))"
   ]
  },
  {
   "cell_type": "code",
   "execution_count": 27,
   "metadata": {},
   "outputs": [],
   "source": [
    "from nltk.stem import SnowballStemmer"
   ]
  },
  {
   "cell_type": "code",
   "execution_count": 28,
   "metadata": {},
   "outputs": [
    {
     "name": "stdout",
     "output_type": "stream",
     "text": [
      "inconstitucional\n"
     ]
    }
   ],
   "source": [
    "portuguese_stemmer = SnowballStemmer('portuguese')\n",
    "print(portuguese_stemmer.stem(\"inconstitucionalmente\"))"
   ]
  },
  {
   "cell_type": "code",
   "execution_count": 29,
   "metadata": {},
   "outputs": [],
   "source": [
    "from nltk.stem import WordNetLemmatizer"
   ]
  },
  {
   "cell_type": "code",
   "execution_count": 30,
   "metadata": {},
   "outputs": [
    {
     "name": "stdout",
     "output_type": "stream",
     "text": [
      "increas\n",
      "increase\n"
     ]
    }
   ],
   "source": [
    "stemmer = PorterStemmer()\n",
    "print(stemmer.stem('increases'))\n",
    "lemmatizer = WordNetLemmatizer()\n",
    "print(lemmatizer.lemmatize('increases'))"
   ]
  }
 ],
 "metadata": {
  "kernelspec": {
   "display_name": "Python 3",
   "language": "python",
   "name": "python3"
  },
  "language_info": {
   "codemirror_mode": {
    "name": "ipython",
    "version": 3
   },
   "file_extension": ".py",
   "mimetype": "text/x-python",
   "name": "python",
   "nbconvert_exporter": "python",
   "pygments_lexer": "ipython3",
   "version": "3.7.3"
  }
 },
 "nbformat": 4,
 "nbformat_minor": 4
}
